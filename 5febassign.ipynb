{
 "cells": [
  {
   "cell_type": "code",
   "execution_count": null,
   "id": "fcb2be90-15d5-4da6-a51a-15e822e437c5",
   "metadata": {},
   "outputs": [],
   "source": [
    "#Q.1  Explain Class and Object with respect to Object-Oriented Programming. Give a suitable example.\n",
    "\n",
    "Ans-- \"\"\"In Object-Oriented Programming (OOP), a class is a blueprint or template for creating objects that encapsulate data and behavior.\n",
    "An object, on the other hand, is an instance of a class that has its own set of data and behavior.\n",
    "\n",
    "To understand this concept, let's consider the example of a class called \"Car\".\n",
    "The \"Car\" class can have properties such as make, model, year, color, and speed, as well as methods such as start(), stop(), accelerate(), and brake().\n",
    "These properties and methods define the characteristics and behavior of the \"Car\" class.\n",
    "\n",
    "When we create an object of the \"Car\" class, we can set its specific values for the properties, such as make = \"Toyota\", model = \"Corolla\", year = 2022, color = \"Red\", and speed = 0.\n",
    "This object will have its own unique set of values for the properties, which may differ from other objects of the same class.\n",
    "\n",
    "We can also call the methods of the object, such as start(), which will initiate the engine and begin moving the car.\n",
    "We can then call accelerate() to increase the car's speed and brake() to slow it down or stop it completely.\n",
    "\n",
    "In summary, a class is a blueprint for creating objects that define their properties and behavior.\n",
    "While an object is an instance of a class that has its own set of values for the properties and can perform the methods defined in the class.\"\"\""
   ]
  },
  {
   "cell_type": "code",
   "execution_count": null,
   "id": "e60d6d83-6941-482e-96f8-1265cb5c70b0",
   "metadata": {},
   "outputs": [],
   "source": [
    "#Q.2  Name the four pillars of OOPs.\n",
    "\n",
    "Ans-- \"\"\"1. Encapsulation\n",
    "         2. Polymorphism\n",
    "         3. Inheritance\n",
    "         4. Abstraction\"\"\""
   ]
  },
  {
   "cell_type": "code",
   "execution_count": null,
   "id": "eb69775b-0de6-49c7-a5a7-95e97f7594fe",
   "metadata": {},
   "outputs": [],
   "source": [
    "#Q.3  Explain why the __init__() function is used. Give a suitable example.\n",
    "\n",
    "Ans-- \"\"\"The init() function is a special method in Python classes that is used to initialize the object's attributes when an instance of the class is created.\n",
    "It is also known as the constructor method. This method is called automatically when an object of a class is created using the class name and parentheses.\n",
    "The main purpose of the init() method is to set the initial values of the object's attributes, which are defined in the class.\n",
    "These attributes may include variables, lists, dictionaries, and other objects.\n",
    "By setting the initial values of these attributes in the constructor, we can ensure that they are properly initialized when the object is created, and can be used throughout the lifetime of the object.\"\"\"\n",
    "\n",
    "Example--"
   ]
  },
  {
   "cell_type": "code",
   "execution_count": 1,
   "id": "5d748241-dd20-4a67-bc3b-da7d7b754726",
   "metadata": {},
   "outputs": [],
   "source": [
    "class specs :\n",
    "    def __init__(self ,model ,processor ,RAM ,price):\n",
    "        self.model = model\n",
    "        self.processor = processor\n",
    "        self.RAM = RAM\n",
    "        self.price = price\n",
    "        \n",
    "    def return_phone_specs(self) :\n",
    "        return self.model ,self.processor ,self.RAM ,self.price\n"
   ]
  },
  {
   "cell_type": "code",
   "execution_count": null,
   "id": "22a0c830-965d-49c5-a762-e5f3a37f096b",
   "metadata": {},
   "outputs": [],
   "source": [
    "realme = specs(10, 695, 8, 24999)"
   ]
  },
  {
   "cell_type": "code",
   "execution_count": 11,
   "id": "414276ca-ae32-4c5d-b603-987177dc92ac",
   "metadata": {},
   "outputs": [
    {
     "data": {
      "text/plain": [
       "24999"
      ]
     },
     "execution_count": 11,
     "metadata": {},
     "output_type": "execute_result"
    }
   ],
   "source": [
    "realme.price"
   ]
  },
  {
   "cell_type": "code",
   "execution_count": null,
   "id": "c98be086-b59a-481e-aef4-e661c82e8e02",
   "metadata": {},
   "outputs": [],
   "source": [
    "#Q.4  Why self is used in OOPs?\n",
    "\n",
    "Ans-- \"\"\"In object-oriented programming (OOP), \"self\" is a special keyword that refers to the current instance of a class.\n",
    "It allows a class to reference its own properties and methods.\n",
    "When you create an object from a class in OOP, that object is an instance of the class, and \"self\" refers to that particular instance.\n",
    "Using \"self\" in your code allows you to access the object's properties and methods from within the class.\"\"\""
   ]
  },
  {
   "cell_type": "code",
   "execution_count": null,
   "id": "a50599bf-1d48-4fb4-979c-7228f1584b6a",
   "metadata": {},
   "outputs": [],
   "source": [
    "#Q.5  What is inheritance? Give an example for each type of inheritance.\n",
    "\n",
    "Ans-- \"\"\"Inheritance is a fundamental concept in object-oriented programming (OOP) that allows a new class to be based on an existing class, inheriting its attributes and methods.\n",
    "The existing class is called the \"parent\" or \"base\" class, and the new class is called the \"child\" or \"derived\" class.\n",
    "There are four types of inheritance in OOPs\n",
    "1.Single Inheritance\n",
    "2.Multiple Inheritance\n",
    "3.Multi Level Inheritance\n",
    "4.Hierarchical Inheritance"
   ]
  },
  {
   "cell_type": "code",
   "execution_count": null,
   "id": "f5a37db5-a3c0-4768-ad86-847f94cfd661",
   "metadata": {},
   "outputs": [],
   "source": [
    "#single inheritance\n",
    "\n",
    "class Animal:\n",
    "    def eat(self):\n",
    "        print(\"Animal is eating.\")\n",
    "\n",
    "class Dog(Animal):\n",
    "    def bark(self):\n",
    "        print(\"Dog is barking.\")\n",
    "\n",
    "d = Dog()\n",
    "d.eat() \n",
    "d.bark()\n"
   ]
  },
  {
   "cell_type": "code",
   "execution_count": null,
   "id": "370c6cbd-b0fa-4d16-9fa5-879cd1913106",
   "metadata": {},
   "outputs": [],
   "source": [
    "#multiple inheritance\n",
    "\n",
    "class A:\n",
    "    def method(self):\n",
    "        print(\"A\")\n",
    "\n",
    "class B:\n",
    "    def method(self):\n",
    "        print(\"B\")\n",
    "\n",
    "class C(A, B):\n",
    "    pass\n",
    "\n",
    "c = C()\n",
    "c.method() \n"
   ]
  },
  {
   "cell_type": "code",
   "execution_count": null,
   "id": "4cf5eab1-332b-4fd7-8ea0-103b212faf48",
   "metadata": {},
   "outputs": [],
   "source": [
    "#multi level inheritance\n",
    "\n",
    "class A:\n",
    "    def method(self):\n",
    "        print(\"A\")\n",
    "\n",
    "class B(A):\n",
    "    pass\n",
    "\n",
    "class C(B):\n",
    "    pass\n",
    "\n",
    "c = C()\n",
    "c.method() \n"
   ]
  },
  {
   "cell_type": "code",
   "execution_count": null,
   "id": "b16c0a0a-5069-4f77-9bb6-5157b5d7ec51",
   "metadata": {},
   "outputs": [],
   "source": [
    "#hierarchial inheritance\n",
    "\n",
    "class Animal:\n",
    "    def eat(self):\n",
    "        print(\"Animal is eating.\")\n",
    "\n",
    "class Dog(Animal):\n",
    "    def bark(self):\n",
    "        print(\"Dog is barking.\")\n",
    "\n",
    "class Cat(Animal):\n",
    "    def meow(self):\n",
    "        print(\"Cat is meowing.\")\n",
    "\n",
    "d = Dog()\n",
    "d.eat() \n",
    "d.bark() \n",
    "\n",
    "c = Cat()\n",
    "c.eat()  # Output: \"Animal is eating.\"\n",
    "c.meow() \n"
   ]
  }
 ],
 "metadata": {
  "kernelspec": {
   "display_name": "Python 3 (ipykernel)",
   "language": "python",
   "name": "python3"
  },
  "language_info": {
   "codemirror_mode": {
    "name": "ipython",
    "version": 3
   },
   "file_extension": ".py",
   "mimetype": "text/x-python",
   "name": "python",
   "nbconvert_exporter": "python",
   "pygments_lexer": "ipython3",
   "version": "3.10.8"
  }
 },
 "nbformat": 4,
 "nbformat_minor": 5
}
