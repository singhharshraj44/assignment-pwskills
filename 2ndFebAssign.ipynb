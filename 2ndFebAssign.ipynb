{
 "cells": [
  {
   "cell_type": "code",
   "execution_count": null,
   "id": "ca3b703b-501f-46ca-a670-33aeee6ac51d",
   "metadata": {},
   "outputs": [],
   "source": [
    "# Q1.Explain with an example each when to use a for loop and a while loop\n",
    "('for and 'while' loops are both used in Python to repeat a set of instructions multiple times.\n",
    "However, there are some differences between the two types of loops, and the choice of which one to use depends on the specific task and the data being processed.\n",
    "Here are some examples of when to use a 'for' loop and a 'while' loop in Python-)\n",
    "\n",
    "(When to use a 'for' loop---- A 'for' loop is often used when you want to iterate over a sequence of elements, such as a list, tuple, or string.\n",
    "The 'for' loop automatically steps through the elements of the sequence one by one, until it has processed all of them.)\n",
    "\n",
    "\n",
    "#code written in the following cell"
   ]
  },
  {
   "cell_type": "code",
   "execution_count": 5,
   "id": "9708e48e-c695-4588-abbf-d2fbf24fb30c",
   "metadata": {},
   "outputs": [
    {
     "name": "stdout",
     "output_type": "stream",
     "text": [
      "1\n",
      "2\n",
      "3\n",
      "4\n",
      "5\n"
     ]
    }
   ],
   "source": [
    "#Iterate over a list of number\n",
    "numbers = [1, 2, 3, 4, 5]\n",
    "for num in numbers:\n",
    "    print(num)"
   ]
  },
  {
   "cell_type": "code",
   "execution_count": 6,
   "id": "2858e40c-5165-4850-aae9-5a7f5e3e605f",
   "metadata": {},
   "outputs": [
    {
     "name": "stdout",
     "output_type": "stream",
     "text": [
      "1\n",
      "2\n",
      "3\n",
      "4\n",
      "5\n"
     ]
    }
   ],
   "source": [
    "#Iterate over a range of numbers\n",
    "for i in range(1, 6):\n",
    "    print(i)\n"
   ]
  },
  {
   "cell_type": "code",
   "execution_count": null,
   "id": "40ad0b95-6b05-4c8e-a29b-61e1a50586bd",
   "metadata": {},
   "outputs": [],
   "source": [
    "When to use a while loop----A while loop is used when you want to repeat a set of instructions while a certain condition is true.\n",
    "The loop will keep executing until the condition becomes false.\n",
    "\n",
    "#code written in the following cell"
   ]
  },
  {
   "cell_type": "code",
   "execution_count": 9,
   "id": "82d7d809-6a3b-45c0-8656-93fb3ca1308e",
   "metadata": {},
   "outputs": [
    {
     "name": "stdin",
     "output_type": "stream",
     "text": [
      "Enter a number between 1 and 10:  55\n",
      "Enter a number between 1 and 10:  58\n",
      "Enter a number between 1 and 10:  8\n"
     ]
    },
    {
     "name": "stdout",
     "output_type": "stream",
     "text": [
      "You entered: 8\n"
     ]
    }
   ],
   "source": [
    "number = 0\n",
    "while number < 1 or number > 10:\n",
    "    number = int(input(\"Enter a number between 1 and 10: \"))\n",
    "print(\"You entered:\", number)\n",
    "\n",
    "\n",
    "\n",
    "\"\"\"(In this example, the while loop repeats until the user enters a number between 1 and 10.\n",
    "The loop keeps executing as long as the user enters a number that is less than 1 or greater than 10.\n",
    "Once the user enters a valid number, the loop terminates and the program moves on to the next statement.)\"\"\""
   ]
  },
  {
   "cell_type": "code",
   "execution_count": 11,
   "id": "5c9948c0-1018-49a5-b509-a58d01a150b1",
   "metadata": {},
   "outputs": [
    {
     "name": "stdout",
     "output_type": "stream",
     "text": [
      "Factorial of 10 is: 3628800\n"
     ]
    }
   ],
   "source": [
    "# Compute factorial of a number\n",
    "\n",
    "\n",
    "n = 10\n",
    "fact = 1\n",
    "while n > 0:\n",
    "    fact *= n\n",
    "    n -= 1\n",
    "print(\"Factorial of 10 is:\", fact)\n",
    "\n",
    "\n",
    "\n",
    "\"\"\"(In this example, the while loop is used to compute the factorial of a number.\n",
    "The loop repeats as long as the value of n is greater than 0.\n",
    "The loop multiplies the value of fact by n, decrements the value of n by 1, and then moves on to the next iteration.\n",
    "The loop terminates when n reaches 0, and the final value of fact is printed.)\"\"\""
   ]
  },
  {
   "cell_type": "code",
   "execution_count": null,
   "id": "b580e731-caee-4b2b-a0b3-1d231c5b91db",
   "metadata": {},
   "outputs": [],
   "source": []
  },
  {
   "cell_type": "code",
   "execution_count": null,
   "id": "16e1135c-3966-4e1c-98d3-4b8b3faf77f2",
   "metadata": {},
   "outputs": [],
   "source": []
  },
  {
   "cell_type": "code",
   "execution_count": 13,
   "id": "395e96af-c632-4f79-9111-b77ad2f6c5fd",
   "metadata": {},
   "outputs": [
    {
     "name": "stdout",
     "output_type": "stream",
     "text": [
      "Sum of first 10 natural numbers: 55\n",
      "Product of first 10 natural numbers: 3628800\n"
     ]
    }
   ],
   "source": [
    "#  Q.2 Write a python program to print the sum and product of the first 10 natural numbers using for and while loop.\n",
    "\n",
    "#using for loop\n",
    "\n",
    "sum = 0\n",
    "prod = 1\n",
    "\n",
    "for i in range(1, 11):\n",
    "    sum += i\n",
    "    prod *= i\n",
    "\n",
    "\n",
    "print(\"Sum of first 10 natural numbers:\", sum)\n",
    "print(\"Product of first 10 natural numbers:\", prod)\n"
   ]
  },
  {
   "cell_type": "code",
   "execution_count": 17,
   "id": "887a74bf-b14d-4962-bf24-bb39d2253876",
   "metadata": {},
   "outputs": [
    {
     "name": "stdout",
     "output_type": "stream",
     "text": [
      "Sum of first 10 natural numbers: 55\n",
      "Product of first 10 natural numbers: 3628800\n"
     ]
    }
   ],
   "source": [
    "#using while loop\n",
    "\n",
    "\n",
    "sum = 0\n",
    "prod = 1\n",
    "\n",
    "\n",
    "i = 1\n",
    "\n",
    "while i <= 10:\n",
    "    sum += i\n",
    "    prod *= i\n",
    "    i += 1\n",
    "\n",
    "\n",
    "print(\"Sum of first 10 natural numbers:\", sum)\n",
    "print(\"Product of first 10 natural numbers:\", prod)\n"
   ]
  },
  {
   "cell_type": "code",
   "execution_count": null,
   "id": "1285da75-d2d4-46c4-b5f9-b1cf94c32e67",
   "metadata": {},
   "outputs": [],
   "source": []
  },
  {
   "cell_type": "code",
   "execution_count": null,
   "id": "9ac6b3d9-a4ed-4ebd-8e30-887cc6081c2f",
   "metadata": {},
   "outputs": [],
   "source": [
    "# Q.3 (Create a python program to compute the electricity bill for a household.\n",
    "The per-unit charges in rupees are as follows: For the first 100 units, the user will be charged Rs. 4.5 per\n",
    "unit, for the next 100 units, the user will be charged Rs. 6 per unit, and for the next 100 units, the user will\n",
    "be charged Rs. 10 per unit, After 300 units and above the user will be charged Rs. 20 per unit.\n",
    "You are required to take the units of electricity consumed in a month from the user as input.\n",
    "Your program must pass this test case: when the unit of electricity consumed by the user in a month is\n",
    "310, the total electricity bill should be 2250.)"
   ]
  },
  {
   "cell_type": "code",
   "execution_count": 18,
   "id": "939a2517-2af3-4109-a173-a23fe3e0f51b",
   "metadata": {},
   "outputs": [
    {
     "name": "stdin",
     "output_type": "stream",
     "text": [
      "Enter the units of electricity consumed in a month:  310\n"
     ]
    },
    {
     "name": "stdout",
     "output_type": "stream",
     "text": [
      "Your total electricity bill is: 2250.0 rupees.\n"
     ]
    }
   ],
   "source": [
    "units = int(input(\"Enter the units of electricity consumed in a month: \"))\n",
    "bill = 0\n",
    "\n",
    "if units <= 100:\n",
    "    bill = units * 4.5\n",
    "elif units <= 200:\n",
    "    bill = 100 * 4.5 + (units - 100) * 6\n",
    "elif units <= 300:\n",
    "    bill = 100 * 4.5 + 100 * 6 + (units - 200) * 10\n",
    "else:\n",
    "    bill = 100 * 4.5 + 100 * 6 + 100 * 10 + (units - 300) * 20\n",
    "\n",
    "print(\"Your total electricity bill is:\", bill, \"rupees.\")\n"
   ]
  },
  {
   "cell_type": "code",
   "execution_count": null,
   "id": "68242372-85c4-4ebc-bd58-a3a4fa90e3ff",
   "metadata": {},
   "outputs": [],
   "source": [
    "#Q.4 (Create a list of numbers from 1 to 100. Use for loop and while loop to calculate the cube of each\n",
    "number and if the cube of that number is divisible by 4 or 5 then append that number in a list and print\n",
    "that list.)"
   ]
  },
  {
   "cell_type": "code",
   "execution_count": 19,
   "id": "893e5997-c82d-41f4-80a8-bd73b6eacb13",
   "metadata": {},
   "outputs": [
    {
     "name": "stdout",
     "output_type": "stream",
     "text": [
      "[2, 4, 5, 6, 8, 10, 12, 14, 15, 16, 18, 20, 22, 24, 25, 26, 28, 30, 32, 34, 35, 36, 38, 40, 42, 44, 45, 46, 48, 50, 52, 54, 55, 56, 58, 60, 62, 64, 65, 66, 68, 70, 72, 74, 75, 76, 78, 80, 82, 84, 85, 86, 88, 90, 92, 94, 95, 96, 98, 100]\n"
     ]
    }
   ],
   "source": [
    "# Using a for loop\n",
    "cubes = []\n",
    "for i in range(1, 101):\n",
    "    cube = i ** 3\n",
    "    if cube % 4 == 0 or cube % 5 == 0:\n",
    "        cubes.append(i)\n",
    "print(cubes)"
   ]
  },
  {
   "cell_type": "code",
   "execution_count": 20,
   "id": "61913898-c9dc-4d4b-906d-d697131da48c",
   "metadata": {},
   "outputs": [
    {
     "name": "stdout",
     "output_type": "stream",
     "text": [
      "[2, 4, 5, 6, 8, 10, 12, 14, 15, 16, 18, 20, 22, 24, 25, 26, 28, 30, 32, 34, 35, 36, 38, 40, 42, 44, 45, 46, 48, 50, 52, 54, 55, 56, 58, 60, 62, 64, 65, 66, 68, 70, 72, 74, 75, 76, 78, 80, 82, 84, 85, 86, 88, 90, 92, 94, 95, 96, 98, 100]\n"
     ]
    }
   ],
   "source": [
    "# Using a while loop\n",
    "cubes = []\n",
    "i = 1\n",
    "while i <= 100:\n",
    "    cube = i ** 3\n",
    "    if cube % 4 == 0 or cube % 5 == 0:\n",
    "        cubes.append(i)\n",
    "    i += 1\n",
    "print(cubes)"
   ]
  },
  {
   "cell_type": "code",
   "execution_count": null,
   "id": "eb3f405a-25c7-4004-9c53-8e07fbf34a38",
   "metadata": {},
   "outputs": [],
   "source": []
  },
  {
   "cell_type": "code",
   "execution_count": null,
   "id": "fb9b92aa-2d0b-4e5f-b739-fb4dc257c47f",
   "metadata": {},
   "outputs": [],
   "source": []
  },
  {
   "cell_type": "code",
   "execution_count": 21,
   "id": "18498389-5c5c-4765-bd34-ca72d97f326c",
   "metadata": {},
   "outputs": [
    {
     "name": "stdout",
     "output_type": "stream",
     "text": [
      "The number of vowels in the string is: 12\n"
     ]
    }
   ],
   "source": [
    "#Q.5 Write a program to filter count vowels in the below-given string.\n",
    "string = \"I want to become a data scientist\"\n",
    "\n",
    "\n",
    "\n",
    "string = \"I want to become a data scientist\"\n",
    "vowels = \"aeiouAEIOU\"\n",
    "count = 0\n",
    "\n",
    "for char in string:\n",
    "    if char in vowels:\n",
    "        count += 1\n",
    "\n",
    "print(\"The number of vowels in the string is:\", count)\n"
   ]
  },
  {
   "cell_type": "code",
   "execution_count": null,
   "id": "e7ff01a7-001e-48df-9fcf-49e55a01d1aa",
   "metadata": {},
   "outputs": [],
   "source": []
  }
 ],
 "metadata": {
  "kernelspec": {
   "display_name": "Python 3 (ipykernel)",
   "language": "python",
   "name": "python3"
  },
  "language_info": {
   "codemirror_mode": {
    "name": "ipython",
    "version": 3
   },
   "file_extension": ".py",
   "mimetype": "text/x-python",
   "name": "python",
   "nbconvert_exporter": "python",
   "pygments_lexer": "ipython3",
   "version": "3.10.8"
  }
 },
 "nbformat": 4,
 "nbformat_minor": 5
}
