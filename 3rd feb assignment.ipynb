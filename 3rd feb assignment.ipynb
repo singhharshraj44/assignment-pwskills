{
 "cells": [
  {
   "cell_type": "code",
   "execution_count": 9,
   "id": "2bc305eb-0904-4bb4-a4ca-73b1c22372fb",
   "metadata": {},
   "outputs": [
    {
     "name": "stdout",
     "output_type": "stream",
     "text": [
      "[1, 3, 5, 7, 9, 11, 13, 15, 17, 19, 21, 23, 25]\n"
     ]
    }
   ],
   "source": [
    "#Q.1  . Which keyword is used to create a function? Create a function to return a list of odd numbers in the range of 1 to 25\n",
    "#Ans-- The keyword used to create a function in Python is 'def\"\n",
    "\n",
    "def get_odd_numbers():\n",
    "    odd = []\n",
    "    for num in range(1, 26):\n",
    "        if num%2 == 1:\n",
    "            odd.append(num)\n",
    "    return odd\n",
    "o = get_odd_numbers()\n",
    "print(o)"
   ]
  },
  {
   "cell_type": "code",
   "execution_count": null,
   "id": "00d646cf-a423-4f47-9e81-406ee9bc607a",
   "metadata": {},
   "outputs": [
    {
     "data": {
      "text/plain": [
       "'Ans--  *args and **kwargs are special syntax in Python that allow functions to accept an arbitrary number of arguments.\\n *args is used to pass a variable number of non-keyword arguments to a function.\\nIt allows you to pass any number of positional arguments to the function. \\nThe syntax is to use the * operator before the variable name.\\n**kwargs is used to pass a variable number of keyword arguments to a function. \\nIt allows you to pass any number of keyword arguments to the function. The syntax is to use the ** operator before the variable name.'"
      ]
     },
     "execution_count": 3,
     "metadata": {},
     "output_type": "execute_result"
    }
   ],
   "source": [
    "#Q.2  . Why *args and **kwargs is used in some functions? Create a function each for *args and **kwargs to demonstrate their use.\n",
    "\"\"\"Ans--  *args and **kwargs are special syntax in Python that allow functions to accept an arbitrary number of arguments.\n",
    " *args is used to pass a variable number of non-keyword arguments to a function.\n",
    "It allows you to pass any number of positional arguments to the function. \n",
    "The syntax is to use the * operator before the variable name.\n",
    "**kwargs is used to pass a variable number of keyword arguments to a function. \n",
    "It allows you to pass any number of keyword arguments to the function. The syntax is to use the ** operator before the variable name.\"\"\"\n",
    "\n",
    "\n"
   ]
  },
  {
   "cell_type": "code",
   "execution_count": 4,
   "id": "8caf93e0-a609-412d-861c-2578bb3d82f3",
   "metadata": {},
   "outputs": [
    {
     "name": "stdout",
     "output_type": "stream",
     "text": [
      "2\n",
      "4\n",
      "6\n",
      "8\n",
      "10\n"
     ]
    }
   ],
   "source": [
    "\"\"\"Q.3   . What is an iterator in python? Name the method used to initialise the iterator object and the method used for iteration.\n",
    "Use these methods to print the first five elements of the given list [2, 4, 6, 8, 10, 12, 14, 16, 18, 20].\"\"\"\n",
    "\n",
    "\n",
    "\"\"\"Ans-- In Python, an iterator is an object that can be iterated (looped) upon, meaning that you can traverse through all the values.\n",
    "It provides a way to access the elements of a container (such as a list) one by one without having to know the internal structure of the container.\n",
    "To create an iterator object in Python, we use the iter() function.\n",
    "The next() function is used to iterate over the elements of an iterator.\n",
    "Calling next() on an iterator will return the next element in the sequence.\"\"\"\n",
    "\n",
    "my_list = [2, 4, 6, 8, 10, 12, 14, 16, 18, 20]\n",
    "\n",
    "my_iterator = iter(my_list)\n",
    "\n",
    "print(next(my_iterator)) \n",
    "print(next(my_iterator)) \n",
    "print(next(my_iterator))  \n",
    "print(next(my_iterator))  \n",
    "print(next(my_iterator)) \n"
   ]
  },
  {
   "cell_type": "code",
   "execution_count": 22,
   "id": "d7706e60-531f-4ab4-ac50-3606568ce6f1",
   "metadata": {},
   "outputs": [],
   "source": [
    "#Q.4  .What is a generator function in python? Why yield keyword is used? Give an example of a generator function\n",
    "\n",
    "\"\"\"Ans-- In Python, a generator function is a special type of function that allows you to iterate over a sequence of values without having to create and store the entire sequence in memory all at once.\n",
    "Instead, the generator function generates the values one by one, as they are requested, which can be more memory-efficient and can also make the program run faster.\n",
    "The key feature of a generator function is the use of the yield keyword, which is similar to the return keyword, but instead of ending the function and returning a value, it temporarily suspends the function and returns a value\n",
    "The next time the function is called, it picks up where it left off, continuing from the last yield statement and continuing to generate the sequence of values.\"\"\"\n",
    "\n",
    "def generate_even_numbers():\n",
    "    n = 0\n",
    "    while True:\n",
    "        yield n\n",
    "        n += 2\n"
   ]
  },
  {
   "cell_type": "code",
   "execution_count": 1,
   "id": "3ec49c7b-d7c8-4264-afa8-85864b6d62c0",
   "metadata": {},
   "outputs": [],
   "source": [
    "#Q.5  . Create a generator function for prime numbers less than 1000. Use the next() method to print the first 20 prime numbers.\"\"\"\n",
    "\n",
    "\n",
    "def generate_primes():\n",
    "    primes = []\n",
    "    for num in range(2, 1000):\n",
    "        is_prime = True\n",
    "        for prime in primes:\n",
    "            if num % prime == 0:\n",
    "                is_prime = False\n",
    "                break\n",
    "        if is_prime:\n",
    "            primes.append(num)\n",
    "            yield num\n"
   ]
  },
  {
   "cell_type": "code",
   "execution_count": 20,
   "id": "9ea75d76-5660-4224-adf4-466e9158df2d",
   "metadata": {},
   "outputs": [
    {
     "name": "stdout",
     "output_type": "stream",
     "text": [
      "0\n",
      "1\n",
      "1\n",
      "2\n",
      "3\n",
      "5\n",
      "8\n",
      "13\n",
      "21\n",
      "34\n"
     ]
    }
   ],
   "source": [
    "#Q.6  . Write a python program to print the first 10 Fibonacci numbers using a while loop.\n",
    "\n",
    "\n",
    "a, b = 0, 1\n",
    "count = 0\n",
    "\n",
    "while count < 10:\n",
    "    print(a)\n",
    "    a, b = b, a + b\n",
    "    count += 1"
   ]
  },
  {
   "cell_type": "code",
   "execution_count": null,
   "id": "55135add-9a7b-4b35-af84-259b281393a7",
   "metadata": {},
   "outputs": [],
   "source": [
    "#Q.7  . Write a List Comprehension to iterate through the given string: ‘pwskills’.\n",
    "#Expected output: ['p', 'w', 's', 'k', 'i', 'l', 'l', 's'] "
   ]
  },
  {
   "cell_type": "code",
   "execution_count": 2,
   "id": "c15739d2-bc11-4e2b-8bf1-73d670f764a9",
   "metadata": {},
   "outputs": [],
   "source": [
    "s = \"pwskills\""
   ]
  },
  {
   "cell_type": "code",
   "execution_count": 3,
   "id": "64bd58fc-d414-4171-b440-5b9006b9f105",
   "metadata": {},
   "outputs": [
    {
     "name": "stdout",
     "output_type": "stream",
     "text": [
      "p\n",
      "w\n",
      "s\n",
      "k\n",
      "i\n",
      "l\n",
      "l\n",
      "s\n"
     ]
    }
   ],
   "source": [
    "for i in s :\n",
    "    print(i)"
   ]
  },
  {
   "cell_type": "code",
   "execution_count": 7,
   "id": "6943b51f-ce70-41f8-8355-f414c0e6deb5",
   "metadata": {},
   "outputs": [
    {
     "name": "stdin",
     "output_type": "stream",
     "text": [
      "Enter a number:  14141\n"
     ]
    },
    {
     "name": "stdout",
     "output_type": "stream",
     "text": [
      "Number is palindrome\n"
     ]
    }
   ],
   "source": [
    "#Q.8   . Write a python program to check whether a given number is Palindrome or not using a while loop.\n",
    "\n",
    "num = int(input(\"Enter a number: \"))\n",
    " \n",
    "temp = num\n",
    "rev = 0\n",
    "\n",
    "while num>0:\n",
    "    remain = num % 10\n",
    "    rev = (rev * 10) + remain\n",
    "    num = num // 10\n",
    "    \n",
    "if temp == rev:\n",
    "    print(\"Number is palindrome\")\n",
    "else:\n",
    "    print(\"Number is not a palindrome\")"
   ]
  },
  {
   "cell_type": "code",
   "execution_count": 8,
   "id": "53cdbc50-ff71-402f-a88a-6c4d678ac30e",
   "metadata": {},
   "outputs": [
    {
     "name": "stdout",
     "output_type": "stream",
     "text": [
      "[1, 3, 5, 7, 9, 11, 13, 15, 17, 19, 21, 23, 25, 27, 29, 31, 33, 35, 37, 39, 41, 43, 45, 47, 49, 51, 53, 55, 57, 59, 61, 63, 65, 67, 69, 71, 73, 75, 77, 79, 81, 83, 85, 87, 89, 91, 93, 95, 97, 99]\n"
     ]
    }
   ],
   "source": [
    "#Q.9   . Write a code to print odd numbers from 1 to 100 using list comprehension.\n",
    "\n",
    "\n",
    "numbers = [i for i in range(1, 101)]\n",
    "\n",
    "odd_numbers = [n for n in numbers if n % 2 != 0]\n",
    "\n",
    "print(odd_numbers)\n"
   ]
  },
  {
   "cell_type": "code",
   "execution_count": null,
   "id": "ae5e5bba-3e71-4d72-9aae-5f1b15545cd6",
   "metadata": {},
   "outputs": [],
   "source": []
  }
 ],
 "metadata": {
  "kernelspec": {
   "display_name": "Python 3 (ipykernel)",
   "language": "python",
   "name": "python3"
  },
  "language_info": {
   "codemirror_mode": {
    "name": "ipython",
    "version": 3
   },
   "file_extension": ".py",
   "mimetype": "text/x-python",
   "name": "python",
   "nbconvert_exporter": "python",
   "pygments_lexer": "ipython3",
   "version": "3.10.8"
  }
 },
 "nbformat": 4,
 "nbformat_minor": 5
}
