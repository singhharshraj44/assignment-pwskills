{
 "cells": [
  {
   "cell_type": "code",
   "execution_count": 3,
   "id": "83ffbd1d-36f5-46b8-9210-0ece8944739b",
   "metadata": {},
   "outputs": [
    {
     "name": "stdin",
     "output_type": "stream",
     "text": [
      "Enter percentage:  12\n"
     ]
    },
    {
     "name": "stdout",
     "output_type": "stream",
     "text": [
      "Grade: D\n"
     ]
    }
   ],
   "source": [
    "#Write a program to accept percentage from the user and display the grade according to given criteria\n",
    "\n",
    "percentage = float(input(\"Enter percentage: \"))\n",
    "\n",
    "if percentage > 90:\n",
    "    grade = \"A\"\n",
    "elif percentage > 80:\n",
    "    grade = \"B\"\n",
    "elif percentage >= 60:\n",
    "    grade = \"C\"\n",
    "else:\n",
    "    grade = \"D\"\n",
    "\n",
    "print(\"Grade: \" + grade)\n"
   ]
  },
  {
   "cell_type": "code",
   "execution_count": 11,
   "id": "d5dbf42e-90d4-49c3-b497-fb4e48a1a6cc",
   "metadata": {},
   "outputs": [
    {
     "name": "stdin",
     "output_type": "stream",
     "text": [
      "Enter cost price of bike:  5000\n"
     ]
    },
    {
     "name": "stdout",
     "output_type": "stream",
     "text": [
      "0.05\n"
     ]
    }
   ],
   "source": [
    "#Write a program to accept the cost price of a bike and display the road tax to be paid according to the given criteria\n",
    "\n",
    "cost_price = float(input(\"Enter cost price of bike: \"))\n",
    "\n",
    "if cost_price > 100000:\n",
    "    tax_rate = 0.15\n",
    "elif cost_price > 50000:\n",
    "    tax_rate = 0.1\n",
    "else:\n",
    "    tax_rate = 0.05\n",
    "\n",
    "\n",
    "print(tax_rate)\n"
   ]
  },
  {
   "cell_type": "code",
   "execution_count": 46,
   "id": "e44f1e19-b5b3-41c3-9fe3-a8a143e9a2d3",
   "metadata": {},
   "outputs": [
    {
     "name": "stdin",
     "output_type": "stream",
     "text": [
      "Enter a city:  mumbai\n"
     ]
    },
    {
     "name": "stdout",
     "output_type": "stream",
     "text": [
      "Sorry, we don't have information about the monument of mumbai.\n"
     ]
    }
   ],
   "source": [
    "#Accept any city from the user and display monuments of that city\n",
    "\n",
    "city = input(\"Enter a city: \")\n",
    "monument = \"\"\n",
    "\n",
    "if city == \"Agra\":\n",
    "    monument = \"Taj Mahal\"\n",
    "elif city == \"Delhi\":\n",
    "    monument = \"Red Fort\"\n",
    "elif city == \"Jaipur\":\n",
    "    monument = \"Jal Mahal\"\n",
    "\n",
    "if monument:\n",
    "    print(monument) \n",
    "else:\n",
    "    print(f\"Sorry, we don't have information about the monument of {city}.\")\n"
   ]
  },
  {
   "cell_type": "code",
   "execution_count": 43,
   "id": "1a60242b-10a5-4a39-a933-104ddac22d87",
   "metadata": {},
   "outputs": [
    {
     "name": "stdin",
     "output_type": "stream",
     "text": [
      "Enter a number:  90000\n"
     ]
    },
    {
     "name": "stdout",
     "output_type": "stream",
     "text": [
      "The number can be divided by 3 {count} times before it is less than or equal to 10.\n"
     ]
    }
   ],
   "source": [
    "# Check how many times a given number be divided by 3 before it is less than or equal to 10.\n",
    "\n",
    "num = int(input(\"Enter a number: \")) \n",
    "\n",
    "count = 0 \n",
    "\n",
    "while num > 10: \n",
    "    num /= 3\n",
    "    count += 1\n",
    "\n",
    "print(f\"The number can be divided by 3 {count} times before it is less than or equal to 10.\")\n"
   ]
  },
  {
   "cell_type": "code",
   "execution_count": null,
   "id": "c16d6656-15d2-4e0f-80cc-a6b5f1b25eed",
   "metadata": {},
   "outputs": [],
   "source": [
    "# Q.Why and When to use while Loop in Python give a detailed description with example.\n",
    "Ans--  A while loop in Python is used to repeatedly execute a block of code while a certain condition is true.\n",
    "The loop continues to execute as long as the condition is true, and stops when the condition becomes false.\n",
    "\n",
    "A while loop is useful in situations where you need to repeat a set of instructions multiple times until a certain condition is met.\n",
    "For example, you might use a while loop to read a file until you reach the end of the file, or to process input from a user until they enter a valid value.\n",
    "\n",
    "In the given example we have to count the number starting from 0 to the desired limit, and add up the number after. \n",
    "Let say I have given 5 as limit input then while loop will add 1+2+3+4+5 and give the desired result,\n",
    "Firstly it will check the value is true or not if it is true it will execute the command to add, if it is false then the loop ends."
   ]
  },
  {
   "cell_type": "code",
   "execution_count": 65,
   "id": "b0ec702e-a29a-44d2-bf9d-655ffa5135f7",
   "metadata": {},
   "outputs": [
    {
     "name": "stdin",
     "output_type": "stream",
     "text": [
      "enter your limit 5\n"
     ]
    },
    {
     "data": {
      "text/plain": [
       "15"
      ]
     },
     "execution_count": 65,
     "metadata": {},
     "output_type": "execute_result"
    }
   ],
   "source": [
    "#example of while loop \n",
    "\n",
    "n = int(input(\"enter your limit\"))\n",
    "starting_point = 0\n",
    "counter = 1\n",
    "\n",
    "while counter <= n:\n",
    "    starting_point = starting_point + counter\n",
    "    counter = counter + 1\n",
    "starting_point"
   ]
  },
  {
   "cell_type": "code",
   "execution_count": 67,
   "id": "6fdc743c-65fc-4d14-9393-ff6a4d3c2c84",
   "metadata": {},
   "outputs": [
    {
     "name": "stdout",
     "output_type": "stream",
     "text": [
      "*\n",
      "**\n",
      "***\n",
      "****\n",
      "*****\n",
      "    *\n",
      "   ***\n",
      "  *****\n",
      " *******\n",
      "*********\n",
      " *******\n",
      "  *****\n",
      "   ***\n",
      "    *\n",
      "*****\n",
      "*****\n",
      "*****\n",
      "*****\n",
      "*****\n"
     ]
    }
   ],
   "source": [
    "#Use nested while loop to print 3 different pattern.\n",
    "\n",
    "\n",
    "1.# Pattern 1: Right Triangle\n",
    "\n",
    "rows = 5  # number of rows in the triangle\n",
    "i = 1  # starting value\n",
    "\n",
    "while i <= rows:  # outer loop for rows\n",
    "    j = 1  # inner loop for columns\n",
    "    while j <= i:  # print stars for each column\n",
    "        print(\"*\", end=\"\")\n",
    "        j += 1\n",
    "    print()  # move to the next row\n",
    "    i += 1\n",
    "\n",
    "    \n",
    "    \n",
    "2.# Pattern 2: Diamond\n",
    "\n",
    "rows = 5  # number of rows in the diamond\n",
    "i = 1  # starting value\n",
    "\n",
    "while i <= rows:  # upper half of the diamond\n",
    "    j = 1\n",
    "    while j <= rows-i:\n",
    "        print(\" \", end=\"\")\n",
    "        j += 1\n",
    "    j = 1\n",
    "    while j <= 2*i-1:\n",
    "        print(\"*\", end=\"\")\n",
    "        j += 1\n",
    "    print()\n",
    "    i += 1\n",
    "\n",
    "i = rows-1  # starting value for the lower half of the diamond\n",
    "while i >= 1:  # lower half of the diamond\n",
    "    j = 1\n",
    "    while j <= rows-i:\n",
    "        print(\" \", end=\"\")\n",
    "        j += 1\n",
    "    j = 1\n",
    "    while j <= 2*i-1:\n",
    "        print(\"*\", end=\"\")\n",
    "        j += 1\n",
    "    print()\n",
    "    i -= 1\n",
    "\n",
    "    \n",
    "    \n",
    "    \n",
    "3.# Pattern 3: Square\n",
    "\n",
    "rows = 5  # number of rows and columns in the square\n",
    "i = 1  # starting value\n",
    "\n",
    "while i <= rows:  # outer loop for rows\n",
    "    j = 1  # inner loop for columns\n",
    "    while j <= rows:  # print stars for each column\n",
    "        print(\"*\", end=\"\")\n",
    "        j += 1\n",
    "    print()  # move to the next row\n",
    "    i += 1\n"
   ]
  },
  {
   "cell_type": "code",
   "execution_count": 68,
   "id": "14071063-2817-4d17-aaf1-b0db840db180",
   "metadata": {},
   "outputs": [
    {
     "name": "stdout",
     "output_type": "stream",
     "text": [
      "10\n",
      "9\n",
      "8\n",
      "7\n",
      "6\n",
      "5\n",
      "4\n",
      "3\n",
      "2\n",
      "1\n"
     ]
    }
   ],
   "source": [
    "#Reverse a while loop to display numbers from 10 to 1.\n",
    "\n",
    "i = 10\n",
    "\n",
    "while i >= 1:\n",
    "    print(i)\n",
    "    i -= 1\n"
   ]
  },
  {
   "cell_type": "code",
   "execution_count": null,
   "id": "02f0a03a-a879-41c4-877b-b8c568905b12",
   "metadata": {},
   "outputs": [],
   "source": []
  }
 ],
 "metadata": {
  "kernelspec": {
   "display_name": "Python 3 (ipykernel)",
   "language": "python",
   "name": "python3"
  },
  "language_info": {
   "codemirror_mode": {
    "name": "ipython",
    "version": 3
   },
   "file_extension": ".py",
   "mimetype": "text/x-python",
   "name": "python",
   "nbconvert_exporter": "python",
   "pygments_lexer": "ipython3",
   "version": "3.10.8"
  }
 },
 "nbformat": 4,
 "nbformat_minor": 5
}
